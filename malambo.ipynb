{
 "cells": [
  {
   "cell_type": "markdown",
   "metadata": {},
   "source": [
    "## Technical Assessment\n",
    "#### ZNPHI Public Health Intelligence Officer – Bioinformatics & Big Data Visualization\n",
    "##### Malambo Mutila |  mutilamalambo@gmail.com | +260979233231"
   ]
  },
  {
   "cell_type": "markdown",
   "metadata": {},
   "source": [
    "##### Key Libraries"
   ]
  },
  {
   "cell_type": "code",
   "execution_count": 258,
   "metadata": {},
   "outputs": [
    {
     "name": "stdout",
     "output_type": "stream",
     "text": [
      "Done\n"
     ]
    }
   ],
   "source": [
    "import pandas as pd \n",
    "import numpy as np\n",
    "import matplotlib.pyplot as plt\n",
    "import matplotlib.colors as mcolors\n",
    "from matplotlib.colors import LinearSegmentedColormap\n",
    "import seaborn as sns\n",
    "\n",
    "import geopandas as gpd\n",
    "\n",
    "from shapely.geometry import Point\n",
    "from shapely.geometry import LineString\n",
    "import folium\n",
    "\n",
    "print(\"Done\")"
   ]
  },
  {
   "cell_type": "markdown",
   "metadata": {},
   "source": [
    "##### Loading Data"
   ]
  },
  {
   "cell_type": "code",
   "execution_count": 232,
   "metadata": {},
   "outputs": [],
   "source": [
    "maternal_deaths = pd.read_excel(\"data/Maternal deaths.xlsx\", sheet_name=None)\n",
    "measles_lab = pd.read_excel(\"data/measles_lab.xlsx\", sheet_name=None)\n",
    "weekly_data = pd.read_csv(\"data/weekly_data_by_province.csv\")\n",
    "zambian_provinces = gpd.read_file(\"./data/shapefiles/zmb_admbnda_adm1_dmmu_20201124.shp\")"
   ]
  },
  {
   "cell_type": "markdown",
   "metadata": {},
   "source": [
    "### EDA"
   ]
  },
  {
   "cell_type": "markdown",
   "metadata": {},
   "source": [
    "##### 1. Weekly Data by Province (Summary)"
   ]
  },
  {
   "cell_type": "code",
   "execution_count": null,
   "metadata": {},
   "outputs": [],
   "source": []
  },
  {
   "cell_type": "markdown",
   "metadata": {},
   "source": [
    "##### 2. Measles Laboratory Tests (Summary of VPD Surveillance Indicators)"
   ]
  },
  {
   "cell_type": "code",
   "execution_count": null,
   "metadata": {},
   "outputs": [],
   "source": []
  },
  {
   "cell_type": "markdown",
   "metadata": {},
   "source": [
    "##### 3. Maternal Deaths"
   ]
  },
  {
   "cell_type": "code",
   "execution_count": 233,
   "metadata": {},
   "outputs": [
    {
     "data": {
      "text/plain": [
       "dict_keys(['MD summary', 'MD linelist'])"
      ]
     },
     "execution_count": 233,
     "metadata": {},
     "output_type": "execute_result"
    }
   ],
   "source": [
    "# Check the sheets in the Excel workbook\n",
    "maternal_deaths.keys()"
   ]
  },
  {
   "cell_type": "markdown",
   "metadata": {},
   "source": [
    "##### 3.1. Maternal Deaths Summary"
   ]
  },
  {
   "cell_type": "code",
   "execution_count": 234,
   "metadata": {},
   "outputs": [
    {
     "data": {
      "text/html": [
       "<div>\n",
       "<style scoped>\n",
       "    .dataframe tbody tr th:only-of-type {\n",
       "        vertical-align: middle;\n",
       "    }\n",
       "\n",
       "    .dataframe tbody tr th {\n",
       "        vertical-align: top;\n",
       "    }\n",
       "\n",
       "    .dataframe thead th {\n",
       "        text-align: right;\n",
       "    }\n",
       "</style>\n",
       "<table border=\"1\" class=\"dataframe\">\n",
       "  <thead>\n",
       "    <tr style=\"text-align: right;\">\n",
       "      <th></th>\n",
       "      <th>Unnamed: 0</th>\n",
       "      <th>Unnamed: 1</th>\n",
       "      <th>Unnamed: 2</th>\n",
       "      <th>Unnamed: 3</th>\n",
       "      <th>Unnamed: 4</th>\n",
       "    </tr>\n",
       "  </thead>\n",
       "  <tbody>\n",
       "    <tr>\n",
       "      <th>0</th>\n",
       "      <td>Weekly Maternal Death</td>\n",
       "      <td>NaN</td>\n",
       "      <td>NaN</td>\n",
       "      <td>Maternal Death Cumulative</td>\n",
       "      <td>NaN</td>\n",
       "    </tr>\n",
       "    <tr>\n",
       "      <th>1</th>\n",
       "      <td>Central</td>\n",
       "      <td>3.0</td>\n",
       "      <td>NaN</td>\n",
       "      <td>Central</td>\n",
       "      <td>36.0</td>\n",
       "    </tr>\n",
       "    <tr>\n",
       "      <th>2</th>\n",
       "      <td>Copperbelt</td>\n",
       "      <td>1.0</td>\n",
       "      <td>NaN</td>\n",
       "      <td>Copperbelt</td>\n",
       "      <td>58.0</td>\n",
       "    </tr>\n",
       "    <tr>\n",
       "      <th>3</th>\n",
       "      <td>Eastern</td>\n",
       "      <td>1.0</td>\n",
       "      <td>NaN</td>\n",
       "      <td>Eastern</td>\n",
       "      <td>29.0</td>\n",
       "    </tr>\n",
       "    <tr>\n",
       "      <th>4</th>\n",
       "      <td>Lusaka</td>\n",
       "      <td>4.0</td>\n",
       "      <td>NaN</td>\n",
       "      <td>Lusaka</td>\n",
       "      <td>88.0</td>\n",
       "    </tr>\n",
       "    <tr>\n",
       "      <th>5</th>\n",
       "      <td>Luapula</td>\n",
       "      <td>1.0</td>\n",
       "      <td>NaN</td>\n",
       "      <td>Luapula</td>\n",
       "      <td>20.0</td>\n",
       "    </tr>\n",
       "    <tr>\n",
       "      <th>6</th>\n",
       "      <td>Muchinga</td>\n",
       "      <td>2.0</td>\n",
       "      <td>NaN</td>\n",
       "      <td>Muchinga</td>\n",
       "      <td>21.0</td>\n",
       "    </tr>\n",
       "    <tr>\n",
       "      <th>7</th>\n",
       "      <td>Northern</td>\n",
       "      <td>NaN</td>\n",
       "      <td>NaN</td>\n",
       "      <td>Northern</td>\n",
       "      <td>38.0</td>\n",
       "    </tr>\n",
       "    <tr>\n",
       "      <th>8</th>\n",
       "      <td>North Western</td>\n",
       "      <td>1.0</td>\n",
       "      <td>NaN</td>\n",
       "      <td>North Western</td>\n",
       "      <td>30.0</td>\n",
       "    </tr>\n",
       "    <tr>\n",
       "      <th>9</th>\n",
       "      <td>Southern</td>\n",
       "      <td>1.0</td>\n",
       "      <td>NaN</td>\n",
       "      <td>Southern</td>\n",
       "      <td>47.0</td>\n",
       "    </tr>\n",
       "    <tr>\n",
       "      <th>10</th>\n",
       "      <td>Western</td>\n",
       "      <td>1.0</td>\n",
       "      <td>NaN</td>\n",
       "      <td>Western</td>\n",
       "      <td>28.0</td>\n",
       "    </tr>\n",
       "    <tr>\n",
       "      <th>11</th>\n",
       "      <td>Total</td>\n",
       "      <td>15.0</td>\n",
       "      <td>NaN</td>\n",
       "      <td>Total</td>\n",
       "      <td>395.0</td>\n",
       "    </tr>\n",
       "  </tbody>\n",
       "</table>\n",
       "</div>"
      ],
      "text/plain": [
       "               Unnamed: 0  Unnamed: 1  Unnamed: 2                 Unnamed: 3  \\\n",
       "0   Weekly Maternal Death         NaN         NaN  Maternal Death Cumulative   \n",
       "1                 Central         3.0         NaN                    Central   \n",
       "2              Copperbelt         1.0         NaN                 Copperbelt   \n",
       "3                 Eastern         1.0         NaN                    Eastern   \n",
       "4                  Lusaka         4.0         NaN                     Lusaka   \n",
       "5                 Luapula         1.0         NaN                    Luapula   \n",
       "6                Muchinga         2.0         NaN                   Muchinga   \n",
       "7                Northern         NaN         NaN                   Northern   \n",
       "8           North Western         1.0         NaN              North Western   \n",
       "9                Southern         1.0         NaN                   Southern   \n",
       "10                Western         1.0         NaN                    Western   \n",
       "11                  Total        15.0         NaN                      Total   \n",
       "\n",
       "    Unnamed: 4  \n",
       "0          NaN  \n",
       "1         36.0  \n",
       "2         58.0  \n",
       "3         29.0  \n",
       "4         88.0  \n",
       "5         20.0  \n",
       "6         21.0  \n",
       "7         38.0  \n",
       "8         30.0  \n",
       "9         47.0  \n",
       "10        28.0  \n",
       "11       395.0  "
      ]
     },
     "execution_count": 234,
     "metadata": {},
     "output_type": "execute_result"
    }
   ],
   "source": [
    "# Preview the data in MD Summary\n",
    "maternal_deaths_summary = maternal_deaths[\"MD summary\"]\n",
    "maternal_deaths_summary.head(20)"
   ]
  },
  {
   "cell_type": "code",
   "execution_count": 235,
   "metadata": {},
   "outputs": [],
   "source": [
    "# Set the second row as the header - this creates a duplicate\n",
    "maternal_deaths_summary.columns = maternal_deaths_summary.iloc[0]\n",
    "\n",
    "# Remove the first row which is now a duplicate\n",
    "maternal_deaths_summary = maternal_deaths_summary[1:]\n",
    "\n",
    "\n",
    "# Make a copy to avoid SettingWithCopyWarning\n",
    "maternal_deaths_summary = maternal_deaths_summary.copy()\n",
    "\n",
    "# Drop unwanted columns\n",
    "maternal_deaths_summary.drop(columns=[maternal_deaths_summary.columns[2], maternal_deaths_summary.columns[3]], inplace=True)\n"
   ]
  },
  {
   "cell_type": "code",
   "execution_count": 236,
   "metadata": {},
   "outputs": [],
   "source": [
    "# Reset the index for clarity\n",
    "maternal_deaths_summary.reset_index(drop=True, inplace=True)"
   ]
  },
  {
   "cell_type": "code",
   "execution_count": 237,
   "metadata": {},
   "outputs": [
    {
     "data": {
      "text/html": [
       "<div>\n",
       "<style scoped>\n",
       "    .dataframe tbody tr th:only-of-type {\n",
       "        vertical-align: middle;\n",
       "    }\n",
       "\n",
       "    .dataframe tbody tr th {\n",
       "        vertical-align: top;\n",
       "    }\n",
       "\n",
       "    .dataframe thead th {\n",
       "        text-align: right;\n",
       "    }\n",
       "</style>\n",
       "<table border=\"1\" class=\"dataframe\">\n",
       "  <thead>\n",
       "    <tr style=\"text-align: right;\">\n",
       "      <th></th>\n",
       "      <th>Weekly Maternal Death</th>\n",
       "      <th>NaN</th>\n",
       "      <th>NaN</th>\n",
       "    </tr>\n",
       "  </thead>\n",
       "  <tbody>\n",
       "    <tr>\n",
       "      <th>0</th>\n",
       "      <td>Central</td>\n",
       "      <td>3.0</td>\n",
       "      <td>36.0</td>\n",
       "    </tr>\n",
       "    <tr>\n",
       "      <th>1</th>\n",
       "      <td>Copperbelt</td>\n",
       "      <td>1.0</td>\n",
       "      <td>58.0</td>\n",
       "    </tr>\n",
       "    <tr>\n",
       "      <th>2</th>\n",
       "      <td>Eastern</td>\n",
       "      <td>1.0</td>\n",
       "      <td>29.0</td>\n",
       "    </tr>\n",
       "    <tr>\n",
       "      <th>3</th>\n",
       "      <td>Lusaka</td>\n",
       "      <td>4.0</td>\n",
       "      <td>88.0</td>\n",
       "    </tr>\n",
       "    <tr>\n",
       "      <th>4</th>\n",
       "      <td>Luapula</td>\n",
       "      <td>1.0</td>\n",
       "      <td>20.0</td>\n",
       "    </tr>\n",
       "    <tr>\n",
       "      <th>5</th>\n",
       "      <td>Muchinga</td>\n",
       "      <td>2.0</td>\n",
       "      <td>21.0</td>\n",
       "    </tr>\n",
       "    <tr>\n",
       "      <th>6</th>\n",
       "      <td>Northern</td>\n",
       "      <td>NaN</td>\n",
       "      <td>38.0</td>\n",
       "    </tr>\n",
       "    <tr>\n",
       "      <th>7</th>\n",
       "      <td>North Western</td>\n",
       "      <td>1.0</td>\n",
       "      <td>30.0</td>\n",
       "    </tr>\n",
       "    <tr>\n",
       "      <th>8</th>\n",
       "      <td>Southern</td>\n",
       "      <td>1.0</td>\n",
       "      <td>47.0</td>\n",
       "    </tr>\n",
       "    <tr>\n",
       "      <th>9</th>\n",
       "      <td>Western</td>\n",
       "      <td>1.0</td>\n",
       "      <td>28.0</td>\n",
       "    </tr>\n",
       "    <tr>\n",
       "      <th>10</th>\n",
       "      <td>Total</td>\n",
       "      <td>15.0</td>\n",
       "      <td>395.0</td>\n",
       "    </tr>\n",
       "  </tbody>\n",
       "</table>\n",
       "</div>"
      ],
      "text/plain": [
       "0  Weekly Maternal Death   NaN    NaN\n",
       "0                Central   3.0   36.0\n",
       "1             Copperbelt   1.0   58.0\n",
       "2                Eastern   1.0   29.0\n",
       "3                 Lusaka   4.0   88.0\n",
       "4                Luapula   1.0   20.0\n",
       "5               Muchinga   2.0   21.0\n",
       "6               Northern   NaN   38.0\n",
       "7          North Western   1.0   30.0\n",
       "8               Southern   1.0   47.0\n",
       "9                Western   1.0   28.0\n",
       "10                 Total  15.0  395.0"
      ]
     },
     "execution_count": 237,
     "metadata": {},
     "output_type": "execute_result"
    }
   ],
   "source": [
    "maternal_deaths_summary.head(12)"
   ]
  },
  {
   "cell_type": "code",
   "execution_count": 238,
   "metadata": {},
   "outputs": [],
   "source": [
    "# Rename the columns by index\n",
    "maternal_deaths_summary.rename(columns={\n",
    "    maternal_deaths_summary.columns[0]: \"Province\",\n",
    "    maternal_deaths_summary.columns[1]: \"Weekly Maternal Death\",\n",
    "    maternal_deaths_summary.columns[2]: \"Maternal Death Cumulative\",\n",
    "}, inplace=True)"
   ]
  },
  {
   "cell_type": "code",
   "execution_count": 239,
   "metadata": {},
   "outputs": [],
   "source": [
    "# Drop Total row by index\n",
    "maternal_deaths_summary.drop(index=10, inplace=True)"
   ]
  },
  {
   "cell_type": "code",
   "execution_count": 240,
   "metadata": {},
   "outputs": [
    {
     "data": {
      "text/html": [
       "<div>\n",
       "<style scoped>\n",
       "    .dataframe tbody tr th:only-of-type {\n",
       "        vertical-align: middle;\n",
       "    }\n",
       "\n",
       "    .dataframe tbody tr th {\n",
       "        vertical-align: top;\n",
       "    }\n",
       "\n",
       "    .dataframe thead th {\n",
       "        text-align: right;\n",
       "    }\n",
       "</style>\n",
       "<table border=\"1\" class=\"dataframe\">\n",
       "  <thead>\n",
       "    <tr style=\"text-align: right;\">\n",
       "      <th></th>\n",
       "      <th>Province</th>\n",
       "      <th>Weekly Maternal Death</th>\n",
       "      <th>Maternal Death Cumulative</th>\n",
       "    </tr>\n",
       "  </thead>\n",
       "  <tbody>\n",
       "    <tr>\n",
       "      <th>0</th>\n",
       "      <td>Central</td>\n",
       "      <td>3.0</td>\n",
       "      <td>36.0</td>\n",
       "    </tr>\n",
       "    <tr>\n",
       "      <th>1</th>\n",
       "      <td>Copperbelt</td>\n",
       "      <td>1.0</td>\n",
       "      <td>58.0</td>\n",
       "    </tr>\n",
       "    <tr>\n",
       "      <th>2</th>\n",
       "      <td>Eastern</td>\n",
       "      <td>1.0</td>\n",
       "      <td>29.0</td>\n",
       "    </tr>\n",
       "    <tr>\n",
       "      <th>3</th>\n",
       "      <td>Lusaka</td>\n",
       "      <td>4.0</td>\n",
       "      <td>88.0</td>\n",
       "    </tr>\n",
       "    <tr>\n",
       "      <th>4</th>\n",
       "      <td>Luapula</td>\n",
       "      <td>1.0</td>\n",
       "      <td>20.0</td>\n",
       "    </tr>\n",
       "    <tr>\n",
       "      <th>5</th>\n",
       "      <td>Muchinga</td>\n",
       "      <td>2.0</td>\n",
       "      <td>21.0</td>\n",
       "    </tr>\n",
       "    <tr>\n",
       "      <th>6</th>\n",
       "      <td>Northern</td>\n",
       "      <td>NaN</td>\n",
       "      <td>38.0</td>\n",
       "    </tr>\n",
       "    <tr>\n",
       "      <th>7</th>\n",
       "      <td>North Western</td>\n",
       "      <td>1.0</td>\n",
       "      <td>30.0</td>\n",
       "    </tr>\n",
       "    <tr>\n",
       "      <th>8</th>\n",
       "      <td>Southern</td>\n",
       "      <td>1.0</td>\n",
       "      <td>47.0</td>\n",
       "    </tr>\n",
       "    <tr>\n",
       "      <th>9</th>\n",
       "      <td>Western</td>\n",
       "      <td>1.0</td>\n",
       "      <td>28.0</td>\n",
       "    </tr>\n",
       "  </tbody>\n",
       "</table>\n",
       "</div>"
      ],
      "text/plain": [
       "0       Province  Weekly Maternal Death  Maternal Death Cumulative\n",
       "0        Central                    3.0                       36.0\n",
       "1     Copperbelt                    1.0                       58.0\n",
       "2        Eastern                    1.0                       29.0\n",
       "3         Lusaka                    4.0                       88.0\n",
       "4        Luapula                    1.0                       20.0\n",
       "5       Muchinga                    2.0                       21.0\n",
       "6       Northern                    NaN                       38.0\n",
       "7  North Western                    1.0                       30.0\n",
       "8       Southern                    1.0                       47.0\n",
       "9        Western                    1.0                       28.0"
      ]
     },
     "execution_count": 240,
     "metadata": {},
     "output_type": "execute_result"
    }
   ],
   "source": [
    "maternal_deaths_summary.head(20)"
   ]
  },
  {
   "cell_type": "markdown",
   "metadata": {},
   "source": [
    "##### 3.2. Map of Zambian Provinces"
   ]
  },
  {
   "cell_type": "code",
   "execution_count": 241,
   "metadata": {},
   "outputs": [
    {
     "data": {
      "text/html": [
       "<div>\n",
       "<style scoped>\n",
       "    .dataframe tbody tr th:only-of-type {\n",
       "        vertical-align: middle;\n",
       "    }\n",
       "\n",
       "    .dataframe tbody tr th {\n",
       "        vertical-align: top;\n",
       "    }\n",
       "\n",
       "    .dataframe thead th {\n",
       "        text-align: right;\n",
       "    }\n",
       "</style>\n",
       "<table border=\"1\" class=\"dataframe\">\n",
       "  <thead>\n",
       "    <tr style=\"text-align: right;\">\n",
       "      <th></th>\n",
       "      <th>Shape_Leng</th>\n",
       "      <th>Shape_Area</th>\n",
       "      <th>ADM1_EN</th>\n",
       "      <th>ADM1_PCODE</th>\n",
       "      <th>ADM1_REF</th>\n",
       "      <th>ADM1ALT1EN</th>\n",
       "      <th>ADM1ALT2EN</th>\n",
       "      <th>ADM0_EN</th>\n",
       "      <th>ADM0_PCODE</th>\n",
       "      <th>date</th>\n",
       "      <th>validOn</th>\n",
       "      <th>validTo</th>\n",
       "      <th>geometry</th>\n",
       "    </tr>\n",
       "  </thead>\n",
       "  <tbody>\n",
       "    <tr>\n",
       "      <th>0</th>\n",
       "      <td>25.222638</td>\n",
       "      <td>9.141987</td>\n",
       "      <td>Central</td>\n",
       "      <td>ZM10</td>\n",
       "      <td>None</td>\n",
       "      <td>None</td>\n",
       "      <td>None</td>\n",
       "      <td>Zambia</td>\n",
       "      <td>ZM</td>\n",
       "      <td>2020-01-03</td>\n",
       "      <td>2020-11-24</td>\n",
       "      <td>0000/00/00</td>\n",
       "      <td>POLYGON ((29.99949 -12.00267, 30.00002 -12.002...</td>\n",
       "    </tr>\n",
       "    <tr>\n",
       "      <th>1</th>\n",
       "      <td>8.863299</td>\n",
       "      <td>2.588911</td>\n",
       "      <td>Copperbelt</td>\n",
       "      <td>ZM20</td>\n",
       "      <td>None</td>\n",
       "      <td>None</td>\n",
       "      <td>None</td>\n",
       "      <td>Zambia</td>\n",
       "      <td>ZM</td>\n",
       "      <td>2020-01-03</td>\n",
       "      <td>2020-11-24</td>\n",
       "      <td>0000/00/00</td>\n",
       "      <td>POLYGON ((27.94644 -12.28198, 27.95514 -12.297...</td>\n",
       "    </tr>\n",
       "    <tr>\n",
       "      <th>2</th>\n",
       "      <td>14.657072</td>\n",
       "      <td>4.253458</td>\n",
       "      <td>Eastern</td>\n",
       "      <td>ZM30</td>\n",
       "      <td>None</td>\n",
       "      <td>None</td>\n",
       "      <td>None</td>\n",
       "      <td>Zambia</td>\n",
       "      <td>ZM</td>\n",
       "      <td>2020-01-03</td>\n",
       "      <td>2020-11-24</td>\n",
       "      <td>0000/00/00</td>\n",
       "      <td>POLYGON ((33.25764 -11.58238, 33.26164 -11.585...</td>\n",
       "    </tr>\n",
       "    <tr>\n",
       "      <th>3</th>\n",
       "      <td>15.141461</td>\n",
       "      <td>4.122920</td>\n",
       "      <td>Luapula</td>\n",
       "      <td>ZM40</td>\n",
       "      <td>None</td>\n",
       "      <td>None</td>\n",
       "      <td>None</td>\n",
       "      <td>Zambia</td>\n",
       "      <td>ZM</td>\n",
       "      <td>2020-01-03</td>\n",
       "      <td>2020-11-24</td>\n",
       "      <td>0000/00/00</td>\n",
       "      <td>POLYGON ((29.37374 -8.70908, 29.36164 -8.72298...</td>\n",
       "    </tr>\n",
       "    <tr>\n",
       "      <th>4</th>\n",
       "      <td>10.056553</td>\n",
       "      <td>2.141454</td>\n",
       "      <td>Lusaka</td>\n",
       "      <td>ZM50</td>\n",
       "      <td>None</td>\n",
       "      <td>None</td>\n",
       "      <td>None</td>\n",
       "      <td>Zambia</td>\n",
       "      <td>ZM</td>\n",
       "      <td>2020-01-03</td>\n",
       "      <td>2020-11-24</td>\n",
       "      <td>0000/00/00</td>\n",
       "      <td>POLYGON ((29.98254 -14.64278, 29.98494 -14.643...</td>\n",
       "    </tr>\n",
       "    <tr>\n",
       "      <th>5</th>\n",
       "      <td>17.987122</td>\n",
       "      <td>7.202235</td>\n",
       "      <td>Muchinga</td>\n",
       "      <td>ZM11</td>\n",
       "      <td>None</td>\n",
       "      <td>None</td>\n",
       "      <td>None</td>\n",
       "      <td>Zambia</td>\n",
       "      <td>ZM</td>\n",
       "      <td>2020-01-03</td>\n",
       "      <td>2020-11-24</td>\n",
       "      <td>0000/00/00</td>\n",
       "      <td>POLYGON ((32.16182 -9.05766, 32.19187 -9.09042...</td>\n",
       "    </tr>\n",
       "    <tr>\n",
       "      <th>6</th>\n",
       "      <td>22.554858</td>\n",
       "      <td>10.428078</td>\n",
       "      <td>North-Western</td>\n",
       "      <td>ZM70</td>\n",
       "      <td>None</td>\n",
       "      <td>None</td>\n",
       "      <td>None</td>\n",
       "      <td>Zambia</td>\n",
       "      <td>ZM</td>\n",
       "      <td>2020-01-03</td>\n",
       "      <td>2020-11-24</td>\n",
       "      <td>0000/00/00</td>\n",
       "      <td>POLYGON ((24.15075 -11.02947, 24.15078 -11.029...</td>\n",
       "    </tr>\n",
       "    <tr>\n",
       "      <th>7</th>\n",
       "      <td>15.227700</td>\n",
       "      <td>6.389407</td>\n",
       "      <td>Northern</td>\n",
       "      <td>ZM60</td>\n",
       "      <td>None</td>\n",
       "      <td>None</td>\n",
       "      <td>None</td>\n",
       "      <td>Zambia</td>\n",
       "      <td>ZM</td>\n",
       "      <td>2020-01-03</td>\n",
       "      <td>2020-11-24</td>\n",
       "      <td>0000/00/00</td>\n",
       "      <td>POLYGON ((30.48184 -8.28098, 30.48544 -8.28408...</td>\n",
       "    </tr>\n",
       "    <tr>\n",
       "      <th>8</th>\n",
       "      <td>13.616327</td>\n",
       "      <td>5.726470</td>\n",
       "      <td>Southern</td>\n",
       "      <td>ZM80</td>\n",
       "      <td>None</td>\n",
       "      <td>None</td>\n",
       "      <td>None</td>\n",
       "      <td>Zambia</td>\n",
       "      <td>ZM</td>\n",
       "      <td>2020-01-03</td>\n",
       "      <td>2020-11-24</td>\n",
       "      <td>0000/00/00</td>\n",
       "      <td>POLYGON ((27.61591 -15.5235, 27.61987 -15.5241...</td>\n",
       "    </tr>\n",
       "    <tr>\n",
       "      <th>9</th>\n",
       "      <td>16.139219</td>\n",
       "      <td>10.758037</td>\n",
       "      <td>Western</td>\n",
       "      <td>ZM90</td>\n",
       "      <td>None</td>\n",
       "      <td>None</td>\n",
       "      <td>None</td>\n",
       "      <td>Zambia</td>\n",
       "      <td>ZM</td>\n",
       "      <td>2020-01-03</td>\n",
       "      <td>2020-11-24</td>\n",
       "      <td>0000/00/00</td>\n",
       "      <td>POLYGON ((22.03129 -13.73621, 22.03666 -13.738...</td>\n",
       "    </tr>\n",
       "  </tbody>\n",
       "</table>\n",
       "</div>"
      ],
      "text/plain": [
       "   Shape_Leng  Shape_Area        ADM1_EN ADM1_PCODE ADM1_REF ADM1ALT1EN  \\\n",
       "0   25.222638    9.141987        Central       ZM10     None       None   \n",
       "1    8.863299    2.588911     Copperbelt       ZM20     None       None   \n",
       "2   14.657072    4.253458        Eastern       ZM30     None       None   \n",
       "3   15.141461    4.122920        Luapula       ZM40     None       None   \n",
       "4   10.056553    2.141454         Lusaka       ZM50     None       None   \n",
       "5   17.987122    7.202235       Muchinga       ZM11     None       None   \n",
       "6   22.554858   10.428078  North-Western       ZM70     None       None   \n",
       "7   15.227700    6.389407       Northern       ZM60     None       None   \n",
       "8   13.616327    5.726470       Southern       ZM80     None       None   \n",
       "9   16.139219   10.758037        Western       ZM90     None       None   \n",
       "\n",
       "  ADM1ALT2EN ADM0_EN ADM0_PCODE       date    validOn     validTo  \\\n",
       "0       None  Zambia         ZM 2020-01-03 2020-11-24  0000/00/00   \n",
       "1       None  Zambia         ZM 2020-01-03 2020-11-24  0000/00/00   \n",
       "2       None  Zambia         ZM 2020-01-03 2020-11-24  0000/00/00   \n",
       "3       None  Zambia         ZM 2020-01-03 2020-11-24  0000/00/00   \n",
       "4       None  Zambia         ZM 2020-01-03 2020-11-24  0000/00/00   \n",
       "5       None  Zambia         ZM 2020-01-03 2020-11-24  0000/00/00   \n",
       "6       None  Zambia         ZM 2020-01-03 2020-11-24  0000/00/00   \n",
       "7       None  Zambia         ZM 2020-01-03 2020-11-24  0000/00/00   \n",
       "8       None  Zambia         ZM 2020-01-03 2020-11-24  0000/00/00   \n",
       "9       None  Zambia         ZM 2020-01-03 2020-11-24  0000/00/00   \n",
       "\n",
       "                                            geometry  \n",
       "0  POLYGON ((29.99949 -12.00267, 30.00002 -12.002...  \n",
       "1  POLYGON ((27.94644 -12.28198, 27.95514 -12.297...  \n",
       "2  POLYGON ((33.25764 -11.58238, 33.26164 -11.585...  \n",
       "3  POLYGON ((29.37374 -8.70908, 29.36164 -8.72298...  \n",
       "4  POLYGON ((29.98254 -14.64278, 29.98494 -14.643...  \n",
       "5  POLYGON ((32.16182 -9.05766, 32.19187 -9.09042...  \n",
       "6  POLYGON ((24.15075 -11.02947, 24.15078 -11.029...  \n",
       "7  POLYGON ((30.48184 -8.28098, 30.48544 -8.28408...  \n",
       "8  POLYGON ((27.61591 -15.5235, 27.61987 -15.5241...  \n",
       "9  POLYGON ((22.03129 -13.73621, 22.03666 -13.738...  "
      ]
     },
     "execution_count": 241,
     "metadata": {},
     "output_type": "execute_result"
    }
   ],
   "source": [
    "zambian_provinces.head(11)"
   ]
  },
  {
   "cell_type": "code",
   "execution_count": 242,
   "metadata": {},
   "outputs": [
    {
     "name": "stdout",
     "output_type": "stream",
     "text": [
      "['Central' 'Copperbelt' 'Eastern' 'Lusaka' 'Luapula' 'Muchinga' 'Northern'\n",
      " 'North Western' 'Southern' 'Western']\n"
     ]
    }
   ],
   "source": [
    "# Compare spellings of provinces in both data frames\n",
    "# Provinces in maternal_deaths_summary\n",
    "print(maternal_deaths_summary['Province'].unique())\n"
   ]
  },
  {
   "cell_type": "code",
   "execution_count": 243,
   "metadata": {},
   "outputs": [
    {
     "name": "stdout",
     "output_type": "stream",
     "text": [
      "['Central' 'Copperbelt' 'Eastern' 'Luapula' 'Lusaka' 'Muchinga'\n",
      " 'North-Western' 'Northern' 'Southern' 'Western']\n"
     ]
    }
   ],
   "source": [
    "# Provinces in ADM1_EN column\n",
    "print(zambian_provinces['ADM1_EN'].unique())"
   ]
  },
  {
   "cell_type": "code",
   "execution_count": 244,
   "metadata": {},
   "outputs": [],
   "source": [
    "# Standardising the names\n",
    "maternal_deaths_summary['Province'] = maternal_deaths_summary['Province'].replace({\n",
    "    \"North Western\": \"North-Western\"\n",
    "})"
   ]
  },
  {
   "cell_type": "code",
   "execution_count": 245,
   "metadata": {},
   "outputs": [
    {
     "name": "stdout",
     "output_type": "stream",
     "text": [
      "['Central' 'Copperbelt' 'Eastern' 'Lusaka' 'Luapula' 'Muchinga' 'Northern'\n",
      " 'North-Western' 'Southern' 'Western']\n",
      "['Central' 'Copperbelt' 'Eastern' 'Luapula' 'Lusaka' 'Muchinga'\n",
      " 'North-Western' 'Northern' 'Southern' 'Western']\n"
     ]
    }
   ],
   "source": [
    "print(maternal_deaths_summary['Province'].unique())\n",
    "\n",
    "print(zambian_provinces['ADM1_EN'].unique())"
   ]
  },
  {
   "cell_type": "markdown",
   "metadata": {},
   "source": [
    "##### 3.3. Cumulative Distribution of Maternal Deaths (2024) by Province"
   ]
  },
  {
   "cell_type": "code",
   "execution_count": 246,
   "metadata": {},
   "outputs": [],
   "source": [
    "# Ensure both dataframes have consistent province naming\n",
    "map_maternal_deaths = zambian_provinces.merge(maternal_deaths_summary, left_on=\"ADM1_EN\", right_on=\"Province\")"
   ]
  },
  {
   "cell_type": "code",
   "execution_count": 247,
   "metadata": {},
   "outputs": [
    {
     "name": "stdout",
     "output_type": "stream",
     "text": [
      "EPSG:4326\n"
     ]
    }
   ],
   "source": [
    "print(map_maternal_deaths.crs)"
   ]
  },
  {
   "cell_type": "code",
   "execution_count": 248,
   "metadata": {},
   "outputs": [],
   "source": [
    "# Re-project the GeoDataFrame to UTM Zone 35S\n",
    "map_maternal_deaths = map_maternal_deaths.to_crs(epsg=32735)"
   ]
  },
  {
   "cell_type": "code",
   "execution_count": 249,
   "metadata": {},
   "outputs": [],
   "source": [
    "# Calculate centroids for each polygon in the projected CRS and store them in a new variable\n",
    "centroids = map_maternal_deaths.geometry.centroid"
   ]
  },
  {
   "cell_type": "code",
   "execution_count": 336,
   "metadata": {},
   "outputs": [
    {
     "data": {
      "image/png": "[encoded data removed]",
      "text/plain": [
       "<Figure size 1000x1200 with 2 Axes>"
      ]
     },
     "metadata": {},
     "output_type": "display_data"
    }
   ],
   "source": [
    "# Step 1: Define a custom colormap with a smooth gradient between specified colors\n",
    "cmap = \"Blues\"\n",
    "\n",
    "# Step 2: Plot the GeoDataFrame with improved boundary clarity\n",
    "fig = plt.figure(figsize=(10, 12))\n",
    "ax = fig.add_subplot(111)\n",
    "\n",
    "map_maternal_deaths.plot(column='Maternal Death Cumulative',\n",
    "                         cmap=cmap,\n",
    "                         linewidth=0.8,  # Increase the linewidth to make boundaries clearer\n",
    "                         ax=ax,\n",
    "                         edgecolor='grey')  # Set edge color to grey for better visibility\n",
    "\n",
    "# Remove axes\n",
    "ax.axis('off')\n",
    "\n",
    "# Step 3: Add annotation for each province's value using centroids\n",
    "centroids = map_maternal_deaths.geometry.centroid\n",
    "for x, y, province, value in zip(centroids.x, centroids.y, map_maternal_deaths['Province'], map_maternal_deaths['Maternal Death Cumulative']):\n",
    "    ax.text(x, y, f'{province} ({value:.0f})', fontsize=12, ha='center', color='black')\n",
    "\n",
    "# Step 4: Create a new axes for the colorbar\n",
    "cbar_ax = fig.add_axes([0.16, 0.52, 0.043, 0.23])  # [left, bottom, width, height] (adjust as needed)\n",
    "sm = plt.cm.ScalarMappable(cmap=cmap, norm=plt.Normalize(vmin=20, vmax=100))\n",
    "sm._A = []  # This is required to create an empty mappable for the colorbar\n",
    "\n",
    "# Create the colorbar and set customized ticks\n",
    "cbar = fig.colorbar(sm, cax=cbar_ax)\n",
    "cbar.set_ticks([40, 60, 80])  # Show only 40, 60, and 80 as ticks\n",
    "\n",
    "# Remove the border (spine) around the colorbar\n",
    "cbar.outline.set_visible(False)\n",
    "\n",
    "# Position the colorbar label using a text object\n",
    "fig.text(0.16, 0.765, 'Cumulative Maternal Deaths', fontsize=10, rotation=0, va='center')  # [left, bottom] coordinates, adjust as needed\n",
    "\n",
    "plt.show()"
   ]
  },
  {
   "cell_type": "code",
   "execution_count": null,
   "metadata": {},
   "outputs": [],
   "source": []
  }
 ],
 "metadata": {
  "kernelspec": {
   "display_name": "bigdata_env",
   "language": "python",
   "name": "python3"
  },
  "language_info": {
   "codemirror_mode": {
    "name": "ipython",
    "version": 3
   },
   "file_extension": ".py",
   "mimetype": "text/x-python",
   "name": "python",
   "nbconvert_exporter": "python",
   "pygments_lexer": "ipython3",
   "version": "3.11.8"
  }
 },
 "nbformat": 4,
 "nbformat_minor": 2
}
